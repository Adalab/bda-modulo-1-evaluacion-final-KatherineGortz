{
 "cells": [
  {
   "cell_type": "markdown",
   "metadata": {},
   "source": [
    "# Crear clase TiendaOnline con los siguientes atributos:\n",
    "1. inventario (lista de diccionarios): Un atributo para almacenar los productos en el inventario.\n",
    "Cada producto debe ser representado como un diccionario con las siguientes claves:\n",
    "'nombre', 'precio', y 'cantidad'. Al principio deberá ser una lista vacía. Ejemplo de\n",
    "como debería ser:\n",
    "[{'nombre': 'Camisa', 'precio': 20, 'cantidad': 40},\n",
    "{'nombre': 'Pantalón', 'precio': 30, 'cantidad': 30}]\n",
    "2. ventas_totales (float): Un atributo para llevar un registro de las ventas totales de la tienda.\n",
    "Inicializado con valor 0.\n",
    "\n",
    "# Métodos\n",
    "## 1. agregar_producto(self, nombre, precio, cantidad): \n",
    "- Este método agrega un producto al inventario o actualiza su cantidad si ya existe. Debe recibir el nombre, precio y cantidad del producto como parámetros.\n",
    "- Itera a través del inventario y compara los nombres de los productos con el nombre\n",
    "proporcionado.\n",
    "- Si el producto ya existe, actualiza la cantidad.\n",
    "- Si no existe, agrega un nuevo producto al inventario.\n",
    "\n",
    "## 2. ver_inventario(self): \n",
    "- Muestra el inventario de productos con sus detalles.\n",
    "- Utiliza un bucle for para recorrer el inventario.\n",
    "- Imprime los detalles (nombre, precio, cantidad) de cada producto.\n",
    "- Debería verse:\n",
    "        Nombre: Camisa, Precio: $20, Cantidad: 50\n",
    "        Nombre: Pantalón, Precio: $30, Cantidad: 30\n",
    "\n",
    "## 3. buscar_producto(self, nombre): \n",
    "\n",
    "- Busca un producto en el inventario por nombre y muestra sus detalles si se encuentra. \n",
    "- Debe recibir el nombre del producto como parámetro.\n",
    "- Utiliza un bucle for para recorrer el inventario.\n",
    "- Compara los nombres de los productos con el nombre proporcionado.\n",
    "- Si se encuentra el producto, imprime sus detalles.\n",
    "- Debe mostrar:Nombre: Camisa, Precio: $20, Cantidad: 40\n",
    "\n",
    "## 4. actualizar_stock(self, nombre, cantidad): \n",
    "- Actualiza el stock de un producto en elinventario. \n",
    "- Debe recibir el nombre del producto y la cantidad a agregar o quitar como parámetros.\n",
    "- Utiliza un bucle for para recorrer el inventario.\n",
    "- Busca el producto por nombre.\n",
    "- Actualiza la cantidad según la entrada del usuario.\n",
    "- Si el producto no esta en el inventario muestra un mensaje indicándolo.\n",
    "\n",
    "## 5. eliminar_producto(self, nombre): \n",
    "- Elimina un producto del inventario por nombre. \n",
    "- Debe recibir el nombre del producto como parámetro.\n",
    "- Utiliza un bucle for para recorrer el inventario.\n",
    "- Busca el producto por nombre.\n",
    "- Elimina el producto del inventario si existe.\n",
    "- Si el producto no esta en el inventario muestra un mensaje indicándolo.\n",
    "\n",
    "## 6. calcular_valor_inventario(self):\n",
    "- Calcula y muestra el valor total del inventario.\n",
    "- Utiliza un bucle for para calcular el valor total del inventario.\n",
    "- Itera a través del inventario y suma el valor de cada producto (precio x cantidad). Es decir,\n",
    "calcula el valor total del inventario.\n",
    "\n",
    "# BONUS\n",
    "\n",
    "Añadir atributo a la clase TiendasOnline:\n",
    "\n",
    "- clientes (diccionario): Un atributo para llevar un registro de los clientes de la tienda. Cada cliente\n",
    "debe ser representado como un diccionario con las siguientes claves: 'nombre' y 'email'. Al inicio\n",
    "deberá ser un diccionario vacío. Además, cada cliente debe tener un historial de compras. Deberá\n",
    "parecerse a:\n",
    "\n",
    "# Métodos\n",
    "\n",
    "1. agregar_cliente(self, nombre, email): \n",
    "- Agrega un nuevo cliente al registro de clientes.\n",
    "- Debe recibir el nombre y el correo electrónico del cliente como parámetros.\n",
    "- Agrega un cliente al diccionario de clientes con su nombre y correo electrónico."
   ]
  },
  {
   "cell_type": "code",
   "execution_count": 513,
   "metadata": {},
   "outputs": [],
   "source": [
    "class TiendaOnline:\n",
    "    def __init__(self, nombre_tienda):\n",
    "        self.nombre_tienda = nombre_tienda\n",
    "        self.inventario = [] #lista de diccionarios, ejemplo de formato:[{'nombre': 'Camisa', 'precio': 20, 'cantidad': 40}]\n",
    "        self.ventas_totales = 0.00 #poner un decimal para señalar que es tipo float\n",
    "        self.clientes = {} #formato va a ser dict. {'Cliente1': {'email': 'cliente1@email.com', 'compras': []},\n",
    "                            #'Cliente2': {'email': 'cliente2@email.com', 'compras': []}}\n",
    "\n",
    "    def agregar_producto(self, nombre, precio, cantidad):\n",
    "        nombre = nombre.lower() #asegurar formato siempre en lower\n",
    "        for producto in self.inventario: #iterar sobre los diccionarios en la lista\n",
    "            if producto[\"nombre\"] == nombre: #comparar con el valor de la clave nombre para saber si ya está en el diccionario\n",
    "                producto[\"cantidad\"] += cantidad #actualizar la cantidad en el inventario con lo que había y lo que se añade \n",
    "                print(f\"El producto {nombre} con precio ${precio:.2f} se ha actualizado en el inventario. La cantidad actualizada es {producto['cantidad']} unidades.\")\n",
    "                return #Encontré esta manera de formatear in float dentro del f string para tener el formato correcto de precio, con dos decimales: :.2f\n",
    "\n",
    "        nuevo_producto = {\"nombre\": nombre,\n",
    "                            \"precio\" : float(precio),\n",
    "                            \"cantidad\" : int(cantidad)}\n",
    "        self.inventario.append(nuevo_producto) #se utiliza append porque inventario es una lista\n",
    "        print(f\"El producto {nombre} con precio ${precio:.2f} en la cantidad de {cantidad} unidades ha sido añadido al inventario.\")\n",
    "\n",
    "    def ver_inventario(self):\n",
    "        if not self.inventario:  # validar si el inventario está vacio.\n",
    "            return (\"El inventario está vacío.\")\n",
    "        \n",
    "        for producto in self.inventario: #añadí title al nombre para que no vinera todo en minículas, parece mas formal y mas limpio.\n",
    "            print(f\"Nombre: {producto['nombre'].title()}, Precio: ${producto['precio']:.2f}, Cantidad: {producto['cantidad']}\")\n",
    "\n",
    "            #cada producto es un diccionario. Para acceder a los valores, se usar nombre_dict[nombre clave]\n",
    "            #Encontré esta manera de formatear in float dentro del f string para tener el formato correcto de precio, con dos decimales: :.2f\n",
    "\n",
    "    def buscar_producto (self, nombre):\n",
    "        for producto in self.inventario:\n",
    "            if producto [\"nombre\"] == nombre.lower(): #Verificar si el nombre del producto está en el inventario, y en caso que si:\n",
    "                print(f\"Nombre: {producto['nombre'].title()}, Precio: ${producto['precio']:.2f}, Cantidad: {producto['cantidad']}\")\n",
    "                return\n",
    "            \n",
    "        print(f\"El producto: {nombre} no se encuentra dentro del inventario.\") #si no está. Fuera del bucle, que cierra con return\n",
    "\n",
    "    def actualizar_stock(self, nombre, cantidad):\n",
    "        for producto in self.inventario:\n",
    "            if producto [\"nombre\"] == nombre.lower():#siempre en lower\n",
    "                producto [\"cantidad\"] = cantidad #para acceder al valor de cantidad, vas al diccionario producto, clave \"nombre\"\n",
    "                print(f\"Se ha podido actualizar el stock del producto: {nombre}. El stock actualizado es de {cantidad} unidades.\")\n",
    "                return\n",
    "            \n",
    "        print(f\" El producto: {nombre} no está en el inventario\") #fuera del loop porque es para productos que no cumplen el if de arriba\n",
    "         \n",
    "    def eliminar_producto(self, nombre):\n",
    "        for producto in self.inventario:\n",
    "            if producto [\"nombre\"] == nombre.lower():\n",
    "                self.inventario.remove(producto) #remove es un list method. self.inventario es una lista. \n",
    "                print(f\"Se ha eliminado el producto {nombre} correctamente.\")\n",
    "                return\n",
    "\n",
    "        print(f\" El producto: {nombre} no está en el inventario\") #fuera del loop porque es para productps que no cumplen con el if de arriba.\n",
    "\n",
    "    def calcular_valor_inventario(self):\n",
    "        valor_inventario = [] #tiene que ser fuera del loop porque si no, se sobreescribe con cada iteracion\n",
    "\n",
    "        for producto in self.inventario:\n",
    "            precio = producto[\"precio\"] #hay que definir donde encontrar el valor para precio y canridad. Producto es un diccionario, utiliza la clave.\n",
    "            cantidad = producto[\"cantidad\"]\n",
    "\n",
    "            precio_producto = precio * cantidad\n",
    "            valor_inventario.append(precio_producto) #list method.\n",
    "\n",
    "        return f\"El valor total del inventario es de ${sum(valor_inventario):.2f}\"\n",
    "\n",
    "        \n",
    "    def agregar_cliente(self, nombre, email, compras=0):\n",
    "        #formato va a ser dict. {'Cliente1': {'email': 'cliente1@email.com', 'compras': []},\n",
    "                            #'Cliente2': {'email': 'cliente2@email.com', 'compras': []}}\n",
    "\n",
    "        for nombre_cliente in self.clientes: #verifica si el cliente ya está en la base de datos\n",
    "            if nombre_cliente.lower() == nombre.lower() and self.clientes[nombre_cliente][\"email\"].lower() == email.lower(): #con un diccionario, puedes hacer esta verificación directamente sin iterar cliente por cliente\n",
    "                print(f\"El cliente con nombre {nombre} ya está en la base de datos.\")\n",
    "                return\n",
    "            \n",
    "            elif self.clientes[nombre_cliente][\"email\"].lower() == email.lower(): #decidí dejar que se registren con el mismo nombre pero emails diferentes porque puede ser dos personas que se llaman igual, o que esa persona se actualizó su email.\n",
    "                print(f\"Ya hay un cliente con el email: {email} en la base de datos.\")\n",
    "                return\n",
    "        \n",
    "        self.clientes[nombre] = {'email': email, 'compras': []} #para el diccionario self.clientes, clave nombre, se asigna los valores en el formato indicado.\n",
    "\n",
    "        print(f\"Se ha añadido el cliente con nombre: {nombre} y email: {email} a la base de datos.\")\n",
    "\n",
    "    \n",
    "        \n",
    "\n",
    "\n"
   ]
  },
  {
   "cell_type": "code",
   "execution_count": 514,
   "metadata": {},
   "outputs": [
    {
     "data": {
      "text/plain": [
       "[]"
      ]
     },
     "execution_count": 514,
     "metadata": {},
     "output_type": "execute_result"
    }
   ],
   "source": [
    "ecommerce1 = TiendaOnline(\"Katie Store\")\n",
    "ecommerce1.inventario"
   ]
  },
  {
   "cell_type": "code",
   "execution_count": 515,
   "metadata": {},
   "outputs": [
    {
     "name": "stdout",
     "output_type": "stream",
     "text": [
      "El producto chaqueta de cuero con precio $125.00 en la cantidad de 10 unidades ha sido añadido al inventario.\n"
     ]
    }
   ],
   "source": [
    "#Para hacer prubeas, productos a agregar:\n",
    "\n",
    "ecommerce1.agregar_producto(\"chaqueta de cuero\", 125, 10)\n",
    "#ecommerce1.agregar_producto(\"Chaqueta de Cuero\", 125, 15)\n",
    "#ecommerce1.agregar_producto(\"Camisa de rayas\", 25, 50)\n",
    "#ecommerce1.agregar_producto(\"Corbata\", 25, 10)\n",
    "#ecommerce1.agregar_producto(\"Caletines blancos\", 10, 100)\n",
    "#ecommerce1.agregar_producto(\"Medias negras\", 20, 10)"
   ]
  },
  {
   "cell_type": "code",
   "execution_count": 516,
   "metadata": {},
   "outputs": [
    {
     "name": "stdout",
     "output_type": "stream",
     "text": [
      "El producto vaqueros levi con precio $50.00 en la cantidad de 15 unidades ha sido añadido al inventario.\n"
     ]
    }
   ],
   "source": [
    "#Pruebas de agregar_producto\n",
    "\n",
    "ecommerce1.agregar_producto(\"Vaqueros Levi\", 50, 15)\n"
   ]
  },
  {
   "cell_type": "code",
   "execution_count": 517,
   "metadata": {},
   "outputs": [
    {
     "name": "stdout",
     "output_type": "stream",
     "text": [
      "El producto vaqueros levi con precio $50.00 se ha actualizado en el inventario. La cantidad actualizada es 30 unidades.\n"
     ]
    }
   ],
   "source": [
    "ecommerce1.agregar_producto(\"Vaqueros Levi\", 50, 15)"
   ]
  },
  {
   "cell_type": "code",
   "execution_count": 518,
   "metadata": {},
   "outputs": [
    {
     "name": "stdout",
     "output_type": "stream",
     "text": [
      "El producto vestido verde con precio $75.00 en la cantidad de 10 unidades ha sido añadido al inventario.\n"
     ]
    }
   ],
   "source": [
    "ecommerce1.agregar_producto(\"Vestido verde\", 75, 10)"
   ]
  },
  {
   "cell_type": "code",
   "execution_count": 519,
   "metadata": {},
   "outputs": [
    {
     "name": "stdout",
     "output_type": "stream",
     "text": [
      "El producto vestido verde con precio $75.00 se ha actualizado en el inventario. La cantidad actualizada es 85 unidades.\n"
     ]
    }
   ],
   "source": [
    "ecommerce1.agregar_producto(\"Vestido verde\", 75, 75)"
   ]
  },
  {
   "cell_type": "code",
   "execution_count": 520,
   "metadata": {},
   "outputs": [
    {
     "data": {
      "text/plain": [
       "[{'nombre': 'chaqueta de cuero', 'precio': 125.0, 'cantidad': 10},\n",
       " {'nombre': 'vaqueros levi', 'precio': 50.0, 'cantidad': 30},\n",
       " {'nombre': 'vestido verde', 'precio': 75.0, 'cantidad': 85}]"
      ]
     },
     "execution_count": 520,
     "metadata": {},
     "output_type": "execute_result"
    }
   ],
   "source": [
    "#Pruebas de ver inventario: primero consultar self.inventario para saber lo que hay\n",
    "\n",
    "ecommerce1.inventario"
   ]
  },
  {
   "cell_type": "code",
   "execution_count": 521,
   "metadata": {},
   "outputs": [
    {
     "name": "stdout",
     "output_type": "stream",
     "text": [
      "Nombre: Chaqueta De Cuero, Precio: $125.00, Cantidad: 10\n",
      "Nombre: Vaqueros Levi, Precio: $50.00, Cantidad: 30\n",
      "Nombre: Vestido Verde, Precio: $75.00, Cantidad: 85\n"
     ]
    }
   ],
   "source": [
    "#Ver inventario para la prueba de buscar_producto\n",
    "ecommerce1.ver_inventario()"
   ]
  },
  {
   "cell_type": "code",
   "execution_count": 522,
   "metadata": {},
   "outputs": [
    {
     "name": "stdout",
     "output_type": "stream",
     "text": [
      "El producto: Falda Negra no se encuentra dentro del inventario.\n"
     ]
    }
   ],
   "source": [
    "#Prueba buscar_producto para un producto que no está.\n",
    "\n",
    "ecommerce1.buscar_producto(\"Falda Negra\")"
   ]
  },
  {
   "cell_type": "code",
   "execution_count": 523,
   "metadata": {},
   "outputs": [
    {
     "name": "stdout",
     "output_type": "stream",
     "text": [
      "Nombre: Vaqueros Levi, Precio: $50.00, Cantidad: 30\n"
     ]
    }
   ],
   "source": [
    "#Prueba buscar_producto para un producto que si que está.\n",
    "\n",
    "ecommerce1.buscar_producto(\"Vaqueros Levi\")"
   ]
  },
  {
   "cell_type": "code",
   "execution_count": 524,
   "metadata": {},
   "outputs": [
    {
     "name": "stdout",
     "output_type": "stream",
     "text": [
      "Nombre: Chaqueta De Cuero, Precio: $125.00, Cantidad: 10\n"
     ]
    }
   ],
   "source": [
    "ecommerce1.buscar_producto(\"chaqueta de cuero\")"
   ]
  },
  {
   "cell_type": "code",
   "execution_count": 525,
   "metadata": {},
   "outputs": [
    {
     "name": "stdout",
     "output_type": "stream",
     "text": [
      "Nombre: Chaqueta De Cuero, Precio: $125.00, Cantidad: 10\n"
     ]
    }
   ],
   "source": [
    "ecommerce1.buscar_producto(\"CHAQUETA DE CUERO\")"
   ]
  },
  {
   "cell_type": "code",
   "execution_count": 526,
   "metadata": {},
   "outputs": [
    {
     "name": "stdout",
     "output_type": "stream",
     "text": [
      "Se ha podido actualizar el stock del producto: Vaqueros Levi. El stock actualizado es de 50 unidades.\n"
     ]
    }
   ],
   "source": [
    "#Prueba actualizar_stock con un producto que si que está.\n",
    "\n",
    "ecommerce1.actualizar_stock(\"Vaqueros Levi\", 50)"
   ]
  },
  {
   "cell_type": "code",
   "execution_count": 527,
   "metadata": {},
   "outputs": [
    {
     "name": "stdout",
     "output_type": "stream",
     "text": [
      " El producto: Falda Negra no está en el inventario\n"
     ]
    }
   ],
   "source": [
    "#Prueba actualizar_stock con un producto que no está.\n",
    "\n",
    "ecommerce1.actualizar_stock(\"Falda Negra\", 50)"
   ]
  },
  {
   "cell_type": "code",
   "execution_count": 528,
   "metadata": {},
   "outputs": [
    {
     "name": "stdout",
     "output_type": "stream",
     "text": [
      "Se ha eliminado el producto Vaqueros Levi correctamente.\n"
     ]
    }
   ],
   "source": [
    "#Prueba eliminar_producto con un producto que si que está en el inventario.\n",
    "\n",
    "ecommerce1.eliminar_producto(\"Vaqueros Levi\")\n"
   ]
  },
  {
   "cell_type": "code",
   "execution_count": 529,
   "metadata": {},
   "outputs": [
    {
     "name": "stdout",
     "output_type": "stream",
     "text": [
      " El producto: Falda Negra no está en el inventario\n"
     ]
    }
   ],
   "source": [
    "#Prueba eliminar_producto con un producto que no está en el inventario.\n",
    "\n",
    "ecommerce1.eliminar_producto(\"Falda Negra\")\n"
   ]
  },
  {
   "cell_type": "code",
   "execution_count": 530,
   "metadata": {},
   "outputs": [
    {
     "data": {
      "text/plain": [
       "[{'nombre': 'chaqueta de cuero', 'precio': 125.0, 'cantidad': 10},\n",
       " {'nombre': 'vestido verde', 'precio': 75.0, 'cantidad': 85}]"
      ]
     },
     "execution_count": 530,
     "metadata": {},
     "output_type": "execute_result"
    }
   ],
   "source": [
    "ecommerce1.inventario"
   ]
  },
  {
   "cell_type": "code",
   "execution_count": 531,
   "metadata": {},
   "outputs": [
    {
     "data": {
      "text/plain": [
       "'El valor total del inventario es de $7625.00'"
      ]
     },
     "execution_count": 531,
     "metadata": {},
     "output_type": "execute_result"
    }
   ],
   "source": [
    "#Prueba calcular_valor_inventario. El inventario actual está en la casilla de arriba.\n",
    "\n",
    "ecommerce1.calcular_valor_inventario()"
   ]
  },
  {
   "cell_type": "code",
   "execution_count": 532,
   "metadata": {},
   "outputs": [
    {
     "name": "stdout",
     "output_type": "stream",
     "text": [
      "El producto camiseta blanca con precio $10.00 en la cantidad de 15 unidades ha sido añadido al inventario.\n"
     ]
    }
   ],
   "source": [
    "ecommerce1.agregar_producto(\"Camiseta blanca\", 10, 15)"
   ]
  },
  {
   "cell_type": "code",
   "execution_count": 533,
   "metadata": {},
   "outputs": [
    {
     "data": {
      "text/plain": [
       "'El valor total del inventario es de $7775.00'"
      ]
     },
     "execution_count": 533,
     "metadata": {},
     "output_type": "execute_result"
    }
   ],
   "source": [
    "ecommerce1.calcular_valor_inventario()"
   ]
  },
  {
   "cell_type": "code",
   "execution_count": 534,
   "metadata": {},
   "outputs": [
    {
     "name": "stdout",
     "output_type": "stream",
     "text": [
      "Se ha añadido el cliente con nombre: Jane Doe y email: janedoe@gmail.com a la base de datos.\n"
     ]
    }
   ],
   "source": [
    "#Prueba de agregar_cliente que no está en la base de datos\n",
    "\n",
    "ecommerce1.agregar_cliente(\"Jane Doe\", \"janedoe@gmail.com\")"
   ]
  },
  {
   "cell_type": "code",
   "execution_count": 535,
   "metadata": {},
   "outputs": [
    {
     "name": "stdout",
     "output_type": "stream",
     "text": [
      "El cliente con nombre Jane Doe ya está en la base de datos.\n"
     ]
    }
   ],
   "source": [
    "#Prueba de agregar_cliente que ya está el nombre en la base de datos.\n",
    "\n",
    "ecommerce1.agregar_cliente(\"Jane Doe\", \"janedoe@gmail.com\")"
   ]
  },
  {
   "cell_type": "code",
   "execution_count": 536,
   "metadata": {},
   "outputs": [
    {
     "name": "stdout",
     "output_type": "stream",
     "text": [
      "Ya hay un cliente con el email: janedoe@gmail.com en la base de datos.\n"
     ]
    }
   ],
   "source": [
    "#Prueba de agregar_cliente cuando el email ya está en la base de datos. \n",
    "\n",
    "ecommerce1.agregar_cliente(\"Bob Smith\", \"janedoe@gmail.com\")"
   ]
  },
  {
   "cell_type": "code",
   "execution_count": 537,
   "metadata": {},
   "outputs": [
    {
     "name": "stdout",
     "output_type": "stream",
     "text": [
      "Se ha añadido el cliente con nombre: Jane Doe y email: janedoe2@gmail.com a la base de datos.\n"
     ]
    }
   ],
   "source": [
    "ecommerce1.agregar_cliente(\"Jane Doe\", \"janedoe2@gmail.com\")"
   ]
  }
 ],
 "metadata": {
  "kernelspec": {
   "display_name": "Python 3",
   "language": "python",
   "name": "python3"
  },
  "language_info": {
   "codemirror_mode": {
    "name": "ipython",
    "version": 3
   },
   "file_extension": ".py",
   "mimetype": "text/x-python",
   "name": "python",
   "nbconvert_exporter": "python",
   "pygments_lexer": "ipython3",
   "version": "3.13.0"
  }
 },
 "nbformat": 4,
 "nbformat_minor": 2
}
