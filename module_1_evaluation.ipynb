{
 "cells": [
  {
   "cell_type": "markdown",
   "metadata": {},
   "source": [
    "# Crear clase TiendaOnline con los siguientes atributos:\n",
    "1. inventario (lista de diccionarios): Un atributo para almacenar los productos en el inventario.\n",
    "Cada producto debe ser representado como un diccionario con las siguientes claves:\n",
    "'nombre', 'precio', y 'cantidad'. Al principio deberá ser una lista vacía. Ejemplo de\n",
    "como debería ser:\n",
    "[{'nombre': 'Camisa', 'precio': 20, 'cantidad': 40},\n",
    "{'nombre': 'Pantalón', 'precio': 30, 'cantidad': 30}]\n",
    "2. ventas_totales (float): Un atributo para llevar un registro de las ventas totales de la tienda.\n",
    "Inicializado con valor 0.\n",
    "\n",
    "# Métodos\n",
    "## 1. add_product(self, 0, precio, cantidad): \n",
    "- Este método agrega un producto al inventario o actualiza su cantidad si ya existe. Debe recibir el nombre, precio y cantidad del producto como parámetros.\n",
    "- Itera a través del inventario y compara los nombres de los productos con el nombre\n",
    "proporcionado.\n",
    "- Si el producto ya existe, actualiza la cantidad.\n",
    "- Si no existe, agrega un nuevo producto al inventory.\n",
    "\n",
    "## 2. see_inventory(self): \n",
    "- Muestra el inventory de productos con sus detalles.\n",
    "- Utiliza un bucle for para recorrer el inventory.\n",
    "- Imprime los detalles (nombre, precio, cantidad) de cada producto.\n",
    "- Debería verse:\n",
    "        Nombre: Camisa, Precio: $20, Cantidad: 50\n",
    "        Nombre: Pantalón, Precio: $30, Cantidad: 30\n",
    "\n",
    "## 3. find_product(self, nombre): \n",
    "\n",
    "- Busca un producto en el inventario por nombre y muestra sus detalles si se encuentra. \n",
    "- Debe recibir el nombre del producto como parámetro.\n",
    "- Utiliza un bucle for para recorrer el inventario.\n",
    "- Compara los nombres de los productos con el nombre proporcionado.\n",
    "- Si se encuentra el producto, imprime sus detalles.\n",
    "- Debe mostrar:Nombre: Camisa, Precio: $20, Cantidad: 40\n",
    "\n",
    "## 4. update_stock(self, nombre, cantidad): \n",
    "- Actualiza el stock de un producto en elinventario. \n",
    "- Debe recibir el nombre del producto y la cantidad a agregar o quitar como parámetros.\n",
    "- Utiliza un bucle for para recorrer el inventario.\n",
    "- Busca el producto por nombre.\n",
    "- Actualiza la cantidad según la entrada del usuario.\n",
    "- Si el producto no esta en el inventario muestra un mensaje indicándolo.\n",
    "\n",
    "## 5. eliminate_product(self, nombre): \n",
    "- Elimina un producto del inventario por nombre. \n",
    "- Debe recibir el nombre del producto como parámetro.\n",
    "- Utiliza un bucle for para recorrer el inventario.\n",
    "- Busca el producto por nombre.\n",
    "- Elimina el producto del inventario si existe.\n",
    "- Si el producto no esta en el inventario muestra un mensaje indicándolo.\n",
    "\n",
    "## 6. calculate_value_inventory(self):\n",
    "- Calcula y muestra el valor total del inventario.\n",
    "- Utiliza un bucle for para calcular el valor total del inventario.\n",
    "- Itera a través del inventario y suma el valor de cada producto (precio x cantidad). Es decir,\n",
    "calcula el valor total del inventario.\n",
    "\n",
    "# BONUS\n",
    "\n",
    "Añadir atributo a la clase TiendasOnline:\n",
    "\n",
    "- clientes (diccionario): Un atributo para llevar un registro de los clientes de la tienda. Cada cliente\n",
    "debe ser representado como un diccionario con las siguientes claves: 'nombre' y 'email'. Al inicio\n",
    "deberá ser un diccionario vacío. Además, cada cliente debe tener un historial de compras. Deberá\n",
    "parecerse a:\n",
    "\n",
    "# Métodos\n",
    "\n",
    "1. add_client(self, nombre, email): \n",
    "- Agrega un nuevo cliente al registro de clientes.\n",
    "- Debe recibir el nombre y el correo electrónico del cliente como parámetros.\n",
    "- Agrega un cliente al diccionario de clientes con su nombre y correo electrónico.\n",
    "\n",
    "2. ver_clientes(self):\n",
    "- Muestra la lista de clientes registrados con sus nombres y correos electrónicos.\n",
    "- Utiliza un bucle for para recorrer la base de datos de clientes.\n",
    "- Imprime los detalles de cada cliente (nombre y correo electrónico).\n",
    "\n",
    "3. realizar_compra(self): NOT COMPLETED\n",
    "- Permite a un cliente realizar una compra seleccionando productos del inventario. \n",
    "- Debe interactuar con el cliente para seleccionar productos y calcular el costo total de la compra.\n",
    "- Utiliza un bucle while para permitir al cliente realizar múltiples compras.\n",
    "- Muestra el inventario y solicita al cliente ingresar el nombre del producto que desea comprar.\n",
    "- Registra los productos seleccionados en un carrito y actualiza el inventario.\n",
    "- Calcula el costo total de la compra.\n",
    "\n",
    "4. procesar_pago(self): \n",
    "- Procesa el pago de una compra, calcula el cambio y muestra un mensaje de confirmación.\n",
    "- Utiliza un bloque try...except para manejar excepciones.\n",
    "- Solicita al cliente ingresar la cantidad total y la cantidad de pago usando un input.\n",
    "- Calcula el cambio y muestra un mensaje de pago exitoso o un error en caso de monto insuficiente."
   ]
  },
  {
   "cell_type": "code",
   "execution_count": 1,
   "metadata": {},
   "outputs": [],
   "source": [
    "class TiendaOnline:\n",
    "    def __init__(self, store_name):\n",
    "        self.store_name = store_name\n",
    "        self.inventory = [] #lista de diccionarios, ejemplo de formato:[{'nombre': 'Camisa', 'precio': 20, 'cantidad': 40}]\n",
    "        self.total_sales = 0.00 #poner un decimal para señalar que es tipo float\n",
    "        self.clients = {} #formato va a ser dict. {'Cliente1': {'email': 'cliente1@email.com', 'compras': []},\n",
    "                            #'Cliente2': {'email': 'cliente2@email.com', 'compras': []}}\n",
    "\n",
    "    def add_product(self, name, price, quantity):\n",
    "        name = name.lower() #asegurar formato siempre en lower\n",
    "        for product in self.inventory: #iterar sobre los diccionarios en la lista\n",
    "            if product[\"name\"] == name: #comparar con el valor de la clave nombre para saber si ya está en el diccionario\n",
    "                product[\"quantity\"] += quantity #actualizar la cantidad en el inventario con lo que había y lo que se añade \n",
    "                print(f\"El producto {name} con precio ${price:.2f} se ha actualizado en el inventario. La cantidad actualizada es {product['quantity']} unidades.\")\n",
    "                return #Encontré esta manera de formatear in float dentro del f string para tener el formato correcto de precio, con dos decimales: :.2f\n",
    "\n",
    "        new_product = {\"name\": name,\n",
    "                            \"price\" : float(price),\n",
    "                            \"quantity\" : int(quantity)} #definir variable\n",
    "        self.inventory.append(new_product) #se utiliza append porque inventario es una lista, new_product is un diccionary, pero se mete en una lista con metodo de lista.\n",
    "        print(f\"El producto {name} con precio ${price:.2f} en la cantidad de {quantity} unidades ha sido añadido al inventario.\")\n",
    "\n",
    "    def see_inventory(self):\n",
    "        if not self.inventory:  # validar si el inventario está vacio. Es Booleano, self.inventory es una lista, si está vacía, da True entonces imprime el f string.\n",
    "            return (\"El inventario está vacío.\") #Se termina la funcion.\n",
    "        \n",
    "        for product in self.inventory: #añadí title al nombre para que no vinera todo en minículas, parece mas formal y mas limpio.\n",
    "            print(f\"Name: {product['name'].title()}, Price: ${product['price']:.2f}, Quantity: {product['quantity']}\")\n",
    "            #self.inventory es una lista. \n",
    "            #cada producto es un diccionario. Para acceder a los valores, se usar nombre_dict[nombre clave]\n",
    "            #Encontré esta manera de formatear in float dentro del f string para tener el formato correcto de precio, con dos decimales: :.2f\n",
    "\n",
    "    def find_product (self, name):\n",
    "        for product in self.inventory:\n",
    "            if product [\"name\"] == name.lower(): #Usar lower, Verificar si el nombre del producto está en el inventario, y en caso que si:\n",
    "                print(f\"Name: {product['name'].title()}, Price: ${product['price']:.2f}, Quantity: {product['quantity']}\")\n",
    "                return\n",
    "            \n",
    "        print(f\"El producto: {name} no se encuentra dentro del inventario.\") #si no está. Fuera del bucle, que cierra con return\n",
    "\n",
    "    def update_stock(self, name, quantity): #para elimiar productos, la cantidad se tendría que dar en negativo. \n",
    "        for product in self.inventory:#iterar sobre elementos (productos, son dict) en la lista self.inventory\n",
    "            if product [\"name\"] == name.lower():#siempre en lower\n",
    "                product [\"quantity\"] += quantity #para acceder al valor de cantidad, vas al diccionario producto, clave \"nombre\"\n",
    "                print(f\"Se ha podido actualizar el stock del producto: {name}. El stock actualizado es de {product['quantity']} unidades.\")\n",
    "                return\n",
    "            \n",
    "        print(f\" El producto: {name} no está en el inventario\") #fuera del loop porque es para productos que no cumplen el if de arriba\n",
    "         \n",
    "    def eliminate_product(self, name):\n",
    "        for product in self.inventory:#iterar sobre la lista\n",
    "            if product [\"name\"] == name.lower(): #product es diccionario, \"name\" es clave.\n",
    "                self.inventory.remove(product) #remove es un list method porque self.inventory es una lista\n",
    "                print(f\"Se ha eliminado el producto {name} correctamente.\")\n",
    "                return\n",
    "\n",
    "        print(f\" El producto: {name} no está en el inventario\") #fuera del loop porque es para productps que no cumplen con el if de arriba. Ademas el bucle se cierra con return.\n",
    "\n",
    "    def calculate_value_inventory(self):\n",
    "        inventory_value = [] #tiene que ser fuera del loop porque si no, se sobreescribe con cada iteracion\n",
    "\n",
    "        for product in self.inventory:\n",
    "            price = product[\"price\"] #hay que definir donde encontrar el valor para precio y cantidad. Producto es un diccionario, utiliza la clave.\n",
    "            quantity = product[\"quantity\"]\n",
    "\n",
    "            product_price = price * quantity\n",
    "            inventory_value.append(product_price) #list method.\n",
    "\n",
    "        return f\"El valor total del inventario es de ${sum(inventory_value):.2f}\"\n",
    "    \n",
    "    def calculate_total_units(self):\n",
    "        #iterar sobre productos en inventario y coger numero de unidades\n",
    "        #sumar total de unidades de cada tipo\n",
    "\n",
    "        total_units = []\n",
    "\n",
    "        for product in self.inventory:\n",
    "            quantity = product[\"quantity\"]\n",
    "\n",
    "            total_units.append(quantity)\n",
    "\n",
    "        return f\"Tienes un total de {sum(total_units)} unidades en tu inventario.\"\n",
    "\n",
    "        \n",
    "    def add_client(self, name, email, purchases=0):\n",
    "        #formato va a ser dict. con dict. como valor {'Cliente1': {'email': 'cliente1@email.com', 'compras': []},\n",
    "                            #'Cliente2': {'email': 'cliente2@email.com', 'compras': []}}\n",
    "\n",
    "        for client_name in self.clients: #verifica si el cliente ya está en la base de datos\n",
    "            if client_name.lower() == name.lower() and self.clients[client_name][\"email\"].lower() == email.lower(): #con un diccionario, puedes hacer esta verificación directamente sin iterar cliente por cliente\n",
    "                print(f\"El cliente con nombre {name} ya está en la base de datos.\")\n",
    "                return\n",
    "            \n",
    "            elif self.clients[client_name][\"email\"].lower() == email.lower(): #decidí dejar que se registren con el mismo nombre pero emails diferentes porque puede ser dos personas que se llaman igual, o que esa persona se actualizó su email.\n",
    "                print(f\"Ya hay un cliente con el email: {email} en la base de datos.\")\n",
    "                return\n",
    "        \n",
    "        self.clients[name] = {'email': email, 'purchases': []} #para el diccionario self.clients, clave nombre, se asigna los valores en el formato indicado.\n",
    "\n",
    "        print(f\"Se ha añadido el cliente con nombre: {name} y email: {email} a la base de datos.\")\n",
    "\n",
    "    \n",
    "    def see_client(self):\n",
    "        if not self.clients: #verificar que hay clientes en la base de datos. Valor Booleano, es verdad que no hay clientes, imprime el mensaje.\n",
    "            print(f\"No hay clientes en la base de datos.\")\n",
    "            return #salir\n",
    "        \n",
    "        for client_name in self.clients: \n",
    "            email = self.clients[client_name][\"email\"] #self.clientes es diccionario de diccionarios. Buscar clave, y dentro, otra clave\n",
    "            print(f\"Nombre: {client_name}, Email:{email}\")\n",
    "\n",
    "\n",
    "    def calcular_cambio(self):\n",
    "\n",
    "        amount_to_pay = input (\"Ingrese el total valor de tu compra:\") #user inputs\n",
    "        amount_paid = input (\"Ingrese la cantidad que le pasas al cajero para pagar:\")\n",
    "        \n",
    "        try:\n",
    "                amount_to_pay = float(amount_to_pay) #input da string por defecto. Cambiar a float.\n",
    "                amount_paid = float(amount_paid)\n",
    "      \n",
    "                if amount_paid >= amount_to_pay: #mensajes espcificos para cada situacion. \n",
    "                    print(f\"El valor total de tu compra es ${amount_to_pay:.2f}.\")\n",
    "                    print(f\"La cantidad que has dado al cajero es ${amount_paid:.2f}.\")\n",
    "                    change_owed = amount_paid - amount_to_pay\n",
    "                    print(f\"Has realizado la compra con éxito. Tu cambio será de ${change_owed:.2f}\")\n",
    "                \n",
    "                else:\n",
    "                    print(f\"La cantidad que has dado al cajero no es suficiente. Tu le has dado ${amount_paid:.2f} y tu compra vale ${amount_to_pay:.2f}\")\n",
    "        \n",
    "        except ValueError:\n",
    "                print(f\"Para el valor total de tu compra, has ingresado: {amount_to_pay}.\")\n",
    "                print(f\"Para la cantidad que das al cajero para pagar, has ingresado: {amount_paid}.\")\n",
    "                print(\"Asegúrate de ingresar un valor númerico válido para el valor de tu compra y la cantidad pagada al cajero.\")\n"
   ]
  },
  {
   "cell_type": "code",
   "execution_count": 2,
   "metadata": {},
   "outputs": [
    {
     "data": {
      "text/plain": [
       "[]"
      ]
     },
     "execution_count": 2,
     "metadata": {},
     "output_type": "execute_result"
    }
   ],
   "source": [
    "ecommerce1 = TiendaOnline(\"Katie Store\")\n",
    "ecommerce1.inventory"
   ]
  },
  {
   "cell_type": "code",
   "execution_count": 3,
   "metadata": {},
   "outputs": [
    {
     "name": "stdout",
     "output_type": "stream",
     "text": [
      "El producto chaqueta de cuero con precio $125.00 en la cantidad de 10 unidades ha sido añadido al inventario.\n",
      "El producto camisa de rayas con precio $25.00 en la cantidad de 50 unidades ha sido añadido al inventario.\n"
     ]
    }
   ],
   "source": [
    "#Para hacer prubeas, productos a agregar:\n",
    "\n",
    "ecommerce1.add_product(\"chaqueta de cuero\", 125, 10)\n",
    "ecommerce1.add_product(\"Camisa de rayas\", 25, 50)\n",
    "#ecommerce1.add_product(\"Corbata\", 25, 10)\n",
    "#ecommerce1.add_product(\"Caletines blancos\", 10, 100)\n",
    "#ecommerce1.add_product(\"Medias negras\", 20, 10)\n",
    "\n",
    "#ecommerce1.add_client(\"George Jones\", \"jones@gmail.com\")\n",
    "#ecommerce1.add_client(\"Pablo Picasso\", \"picasso@gmail.com\")\n",
    "#ecommerce1.add_client (\"Ben Franklin\", \"franklin@gmail.com\")\n",
    "#ecommerce1.add_client (\"John Jackson\"), \"jackson@gmail.com\")"
   ]
  },
  {
   "cell_type": "code",
   "execution_count": 4,
   "metadata": {},
   "outputs": [
    {
     "data": {
      "text/plain": [
       "'Tienes un total de 60 unidades en tu inventario.'"
      ]
     },
     "execution_count": 4,
     "metadata": {},
     "output_type": "execute_result"
    }
   ],
   "source": [
    "ecommerce1.calculate_total_units()"
   ]
  },
  {
   "cell_type": "code",
   "execution_count": null,
   "metadata": {},
   "outputs": [],
   "source": [
    "ecommerce1.clients"
   ]
  },
  {
   "cell_type": "code",
   "execution_count": null,
   "metadata": {},
   "outputs": [],
   "source": [
    "ecommerce1.add_client(\"George Jones\", \"jones@gmail.com\")"
   ]
  },
  {
   "cell_type": "code",
   "execution_count": null,
   "metadata": {},
   "outputs": [],
   "source": [
    "ecommerce1.add_client(\"Jenny Jones\", \"jones@gmail.com\")"
   ]
  },
  {
   "cell_type": "code",
   "execution_count": null,
   "metadata": {},
   "outputs": [],
   "source": [
    "#Pruebas de add_product\n",
    "\n",
    "ecommerce1.add_product(\"Vaqueros Levi\", 50, 15)\n"
   ]
  },
  {
   "cell_type": "code",
   "execution_count": null,
   "metadata": {},
   "outputs": [],
   "source": [
    "ecommerce1.add_product(\"Vaqueros Levi\", 50, 15)"
   ]
  },
  {
   "cell_type": "code",
   "execution_count": null,
   "metadata": {},
   "outputs": [],
   "source": [
    "ecommerce1.add_product(\"Vestido verde\", 75, 10)"
   ]
  },
  {
   "cell_type": "code",
   "execution_count": null,
   "metadata": {},
   "outputs": [],
   "source": [
    "ecommerce1.add_product(\"Vestido verde\", 75, 75)"
   ]
  },
  {
   "cell_type": "code",
   "execution_count": null,
   "metadata": {},
   "outputs": [],
   "source": [
    "#Pruebas de ver inventario: primero consultar self.inventory para saber lo que hay\n",
    "\n",
    "ecommerce1.inventory"
   ]
  },
  {
   "cell_type": "code",
   "execution_count": null,
   "metadata": {},
   "outputs": [],
   "source": [
    "#Ver inventario para la prueba de find_product\n",
    "ecommerce1.see_inventory()"
   ]
  },
  {
   "cell_type": "code",
   "execution_count": null,
   "metadata": {},
   "outputs": [],
   "source": [
    "#Prueba find_product para un producto que no está.\n",
    "\n",
    "ecommerce1.find_product(\"Falda Negra\")"
   ]
  },
  {
   "cell_type": "code",
   "execution_count": null,
   "metadata": {},
   "outputs": [],
   "source": [
    "#Prueba find_product para un producto que si que está.\n",
    "\n",
    "ecommerce1.find_product(\"Vaqueros Levi\")"
   ]
  },
  {
   "cell_type": "code",
   "execution_count": null,
   "metadata": {},
   "outputs": [],
   "source": [
    "ecommerce1.find_product(\"vaqueros levi\")"
   ]
  },
  {
   "cell_type": "code",
   "execution_count": null,
   "metadata": {},
   "outputs": [],
   "source": [
    "ecommerce1.find_product(\"chaqueta de cuero\")"
   ]
  },
  {
   "cell_type": "code",
   "execution_count": null,
   "metadata": {},
   "outputs": [],
   "source": [
    "ecommerce1.find_product(\"CHAQUETA DE CUERO\")"
   ]
  },
  {
   "cell_type": "code",
   "execution_count": null,
   "metadata": {},
   "outputs": [],
   "source": [
    "#Prueba update_stock con un producto que si que está.\n",
    "\n",
    "ecommerce1.update_stock(\"Vaqueros Levi\", -5)"
   ]
  },
  {
   "cell_type": "code",
   "execution_count": null,
   "metadata": {},
   "outputs": [],
   "source": [
    "#Prueba update_stock con un producto que no está.\n",
    "\n",
    "ecommerce1.update_stock(\"Falda Negra\", 50)"
   ]
  },
  {
   "cell_type": "code",
   "execution_count": null,
   "metadata": {},
   "outputs": [],
   "source": [
    "#Prueba eliminate_product con un producto que si que está en el inventario.\n",
    "\n",
    "ecommerce1.eliminate_product(\"Vaqueros Levi\")\n"
   ]
  },
  {
   "cell_type": "code",
   "execution_count": null,
   "metadata": {},
   "outputs": [],
   "source": [
    "#Prueba eliminate_product con un producto que no está en el inventario.\n",
    "\n",
    "ecommerce1.eliminate_product(\"Falda Negra\")\n"
   ]
  },
  {
   "cell_type": "code",
   "execution_count": null,
   "metadata": {},
   "outputs": [],
   "source": [
    "ecommerce1.inventory"
   ]
  },
  {
   "cell_type": "code",
   "execution_count": null,
   "metadata": {},
   "outputs": [],
   "source": [
    "#Prueba calculate_value_inventory. El inventario actual está en la casilla de arriba.\n",
    "\n",
    "ecommerce1.calculate_value_inventory()"
   ]
  },
  {
   "cell_type": "code",
   "execution_count": null,
   "metadata": {},
   "outputs": [],
   "source": [
    "ecommerce1.add_product(\"Camiseta blanca\", 10, 15)"
   ]
  },
  {
   "cell_type": "code",
   "execution_count": null,
   "metadata": {},
   "outputs": [],
   "source": [
    "ecommerce1.calculate_value_inventory()"
   ]
  },
  {
   "cell_type": "code",
   "execution_count": null,
   "metadata": {},
   "outputs": [],
   "source": [
    "#Prueba de add_client que no está en la base de datos\n",
    "\n",
    "ecommerce1.add_client(\"Jane Doe\", \"janedoe@gmail.com\")"
   ]
  },
  {
   "cell_type": "code",
   "execution_count": null,
   "metadata": {},
   "outputs": [],
   "source": [
    "#Prueba de add_client que ya está el nombre en la base de datos.\n",
    "\n",
    "ecommerce1.add_client(\"Jane Doe\", \"janedoe@gmail.com\")"
   ]
  },
  {
   "cell_type": "code",
   "execution_count": null,
   "metadata": {},
   "outputs": [],
   "source": [
    "#Prueba de add_client cuando el email ya está en la base de datos. \n",
    "\n",
    "ecommerce1.add_client(\"Bob Smith\", \"janedoe@gmail.com\")"
   ]
  },
  {
   "cell_type": "code",
   "execution_count": null,
   "metadata": {},
   "outputs": [],
   "source": [
    "ecommerce1.see_client()"
   ]
  },
  {
   "cell_type": "code",
   "execution_count": null,
   "metadata": {},
   "outputs": [],
   "source": [
    "#Prubeas calcular_cambio #probar con dos inputs validos\n",
    "ecommerce1.calcular_cambio() "
   ]
  },
  {
   "cell_type": "code",
   "execution_count": null,
   "metadata": {},
   "outputs": [],
   "source": [
    "#probar con por lo menos un input no numerico.\n",
    "ecommerce1.calcular_cambio() "
   ]
  },
  {
   "cell_type": "code",
   "execution_count": null,
   "metadata": {},
   "outputs": [],
   "source": [
    "#probar con pago insuficiente para cubrir la compra \n",
    "ecommerce1.calcular_cambio() "
   ]
  }
 ],
 "metadata": {
  "kernelspec": {
   "display_name": "Python 3",
   "language": "python",
   "name": "python3"
  },
  "language_info": {
   "codemirror_mode": {
    "name": "ipython",
    "version": 3
   },
   "file_extension": ".py",
   "mimetype": "text/x-python",
   "name": "python",
   "nbconvert_exporter": "python",
   "pygments_lexer": "ipython3",
   "version": "3.13.0"
  }
 },
 "nbformat": 4,
 "nbformat_minor": 2
}
